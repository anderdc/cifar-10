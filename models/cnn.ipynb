{
 "cells": [
  {
   "cell_type": "markdown",
   "metadata": {},
   "source": [
    "## Convolutional Neural Networks (with Pytorch)\n",
    "This is the epitome of what the project has been working towards. I've mostly been working with classical models, to get a feel for a workflow, and throughout the process we realized that they are definitely not suited for this type of data. CNN's are better at capturing features within an image and they use the feature maps in the fully-connected network to predict the target. <br>\n",
    "I'll be testing a few architectures.\n",
    "- basic architecture that does well\n",
    "- super light/small architecture\n",
    "- my best tuned/get highest test accuracy architecture\n",
    "\n",
    "The loss function I'll use for every model is cross entropy loss. This is the standard for classification models. In my notebook I talk about how it can be skewed depending on the probability distribution of the dataset, but that is a digression. The optimizer for all models as well is Adam (adaptive moment estimation). I read the paper on this optimizing algorithm and for the most part it went over my head. The general gist of it is that it essentially uses SGD but can dynamically adjust learning rate on a per parameter basis. Making it basically the best go to optimizer. \n",
    "\n",
    "### Cifar10NN\n",
    "The model has: 3 Convolutional layers, 4 Fully-Connected layers<br>\n",
    "it uses a dropout of 25% and MaxPooling.\n",
    "\n",
    "*Training*\n",
    "The model was trained on Tenochtitlan and was quick, 10 epochs took ~48s. Also without even really tuning or anything it ended up with scores of:<br>\n",
    "`Train Accuracy: 76.99%` <br>\n",
    "`Test Accuracy: 69.73%`<br>\n",
    "Which blows all the classical models away (as expected). It's a tad overfit, due to a train accuracy being 7% higher, but not anything radical. I also plotted the loss since that seems like an important metric to keep track of, it's noisy but downward trends beautifully. It almost seems to be a decreasing exponential graph.\n",
    "\n",
    "ChatGPT basically helped me set up 85%+ but hey I'm the one that pushed the button! I want to get better at just knowing what python code to write, but I also don't want to get too bogged down with memorizing notation/syntax. Start with at least being able to understand the bigger picture and drill down from there.\n",
    "\n"
   ]
  },
  {
   "cell_type": "code",
   "execution_count": 11,
   "metadata": {},
   "outputs": [],
   "source": [
    "import torch\n",
    "import torch.nn as nn\n",
    "from torchvision import datasets, transforms\n",
    "import torch.nn.functional as F\n",
    "import time\n",
    "import pandas as pd\n",
    "\n",
    "import seaborn as sns\n",
    "from sklearn.datasets import fetch_openml\n",
    "from matplotlib import pyplot as plt\n",
    "from sklearn.model_selection import train_test_split\n",
    "from sklearn.decomposition import PCA\n",
    "from sklearn.preprocessing import StandardScaler\n",
    "from sklearn.preprocessing import LabelEncoder\n",
    "\n",
    "from sklearn.metrics import accuracy_score\n",
    "from sklearn.metrics import log_loss\n",
    "from sklearn.metrics import confusion_matrix"
   ]
  },
  {
   "cell_type": "code",
   "execution_count": 2,
   "metadata": {},
   "outputs": [
    {
     "name": "stdout",
     "output_type": "stream",
     "text": [
      "cuda\n"
     ]
    }
   ],
   "source": [
    "# some vars\n",
    "batch_size = 64\n",
    "\n",
    "device = torch.device('cuda' if torch.cuda.is_available() else 'cpu')\n",
    "print(device)"
   ]
  },
  {
   "cell_type": "code",
   "execution_count": 3,
   "metadata": {
    "scrolled": true
   },
   "outputs": [],
   "source": [
    "# Define transformations for dataset\n",
    "transform = transforms.Compose([\n",
    "    transforms.ToTensor(),  # Convert images to PyTorch tensors\n",
    "])\n",
    "\n",
    "train_dataset = datasets.CIFAR10(root='../data', train=True, download=True, transform=transform)\n",
    "test_dataset = datasets.CIFAR10(root='./data', train=False, download=True, transform=transform)\n",
    "\n",
    "# Create DataLoaders\n",
    "train_loader = torch.utils.data.DataLoader(train_dataset, batch_size=batch_size, shuffle=True)\n",
    "test_loader = torch.utils.data.DataLoader(test_dataset, batch_size=batch_size, shuffle=False)"
   ]
  },
  {
   "cell_type": "code",
   "execution_count": 4,
   "metadata": {},
   "outputs": [
    {
     "name": "stdout",
     "output_type": "stream",
     "text": [
      "Training dataset size: 50000\n",
      "Testing dataset size: 10000\n",
      "Image shape: torch.Size([3, 32, 32])\n",
      "Number of classes: 10\n"
     ]
    }
   ],
   "source": [
    "# Explore the data\n",
    "print(\"Training dataset size:\", len(train_dataset))\n",
    "print(\"Testing dataset size:\", len(test_dataset))\n",
    "\n",
    "example_image, example_label = train_dataset[0]\n",
    "print(\"Image shape:\", example_image.shape)\n",
    "\n",
    "# Get the number of classes\n",
    "num_classes = len(train_dataset.classes)\n",
    "print(\"Number of classes:\", num_classes)"
   ]
  },
  {
   "cell_type": "markdown",
   "metadata": {},
   "source": [
    "## 1. Basic Architecture"
   ]
  },
  {
   "cell_type": "code",
   "execution_count": 18,
   "metadata": {},
   "outputs": [],
   "source": [
    "# defining nn architecture\n",
    "class Cifar10NN(nn.Module):\n",
    "    def __init__(self):\n",
    "        super(Cifar10NN, self).__init__()\n",
    "        # Convolutional layers\n",
    "        self.conv1 = nn.Conv2d(in_channels=3, out_channels=32, kernel_size=3, padding=1)  #the layer produces 32 output feature maps (each is a result of convolving the input with a different kernel/filter).\n",
    "        self.conv2 = nn.Conv2d(in_channels=32, out_channels=64, kernel_size=3, padding=1)\n",
    "        self.conv3 = nn.Conv2d(in_channels=64, out_channels=128, kernel_size=3, padding=1)\n",
    "\n",
    "        # Fully connected layers\n",
    "        self.fc1 = nn.Linear(128 * 4 * 4, 256)  # Adjusted for the output size after pooling\n",
    "        self.fc2 = nn.Linear(256, 128)\n",
    "        self.fc3 = nn.Linear(128, 64)\n",
    "        self.fc4 = nn.Linear(64, 10)\n",
    "\n",
    "        # Pooling and dropout\n",
    "        self.pool = nn.MaxPool2d(kernel_size=2, stride=2)\n",
    "        self.dropout = nn.Dropout(0.25)\n",
    "\n",
    "    def forward(self, x):\n",
    "        x = self.pool(F.relu(self.conv1(x)))            # after this max pooling, the tensor shape becomes (batch_size, 32, 16, 16)\n",
    "        x = self.pool(F.relu(self.conv2(x)))            # now (batch_size, 64, 8, 8)\n",
    "        x = self.pool(F.relu(self.conv3(x)))            # now (batch_size, 128, 4, 4)\n",
    "\n",
    "        # Flatten the output for the fully connected layers, 1-D\n",
    "        x = x.view(-1, 128 * 4 * 4)\n",
    "\n",
    "        # Fully connected layers with ReLU and dropout\n",
    "        x = F.relu(self.fc1(x))\n",
    "        x = self.dropout(x)\n",
    "        x = F.relu(self.fc2(x))\n",
    "        x = self.dropout(x)\n",
    "        x = F.relu(self.fc3(x))\n",
    "        x = self.dropout(x)\n",
    "        x = self.fc4(x)\n",
    "\n",
    "        return x"
   ]
  },
  {
   "cell_type": "code",
   "execution_count": 6,
   "metadata": {},
   "outputs": [
    {
     "data": {
      "text/plain": [
       "Cifar10NN(\n",
       "  (conv1): Conv2d(3, 32, kernel_size=(3, 3), stride=(1, 1), padding=(1, 1))\n",
       "  (conv2): Conv2d(32, 64, kernel_size=(3, 3), stride=(1, 1), padding=(1, 1))\n",
       "  (conv3): Conv2d(64, 128, kernel_size=(3, 3), stride=(1, 1), padding=(1, 1))\n",
       "  (fc1): Linear(in_features=2048, out_features=256, bias=True)\n",
       "  (fc2): Linear(in_features=256, out_features=128, bias=True)\n",
       "  (fc3): Linear(in_features=128, out_features=64, bias=True)\n",
       "  (fc4): Linear(in_features=64, out_features=10, bias=True)\n",
       "  (pool): MaxPool2d(kernel_size=2, stride=2, padding=0, dilation=1, ceil_mode=False)\n",
       "  (dropout): Dropout(p=0.25, inplace=False)\n",
       ")"
      ]
     },
     "execution_count": 6,
     "metadata": {},
     "output_type": "execute_result"
    }
   ],
   "source": [
    "# instantiate model, move it to gpu (if available)\n",
    "model = Cifar10NN()\n",
    "cost = nn.CrossEntropyLoss()\n",
    "optimizer = torch.optim.Adam(model.parameters(), lr=0.001)\n",
    "\n",
    "model.to(device)"
   ]
  },
  {
   "cell_type": "code",
   "execution_count": 7,
   "metadata": {},
   "outputs": [
    {
     "name": "stdout",
     "output_type": "stream",
     "text": [
      "Epoch 1, Batch 100, Loss: 2.273\n",
      "Epoch 1, Batch 200, Loss: 2.045\n",
      "Epoch 1, Batch 300, Loss: 1.850\n",
      "Epoch 1, Batch 400, Loss: 1.744\n",
      "Epoch 1, Batch 500, Loss: 1.681\n",
      "Epoch 1, Batch 600, Loss: 1.604\n",
      "Epoch 1, Batch 700, Loss: 1.594\n",
      "Epoch 2, Batch 100, Loss: 1.483\n",
      "Epoch 2, Batch 200, Loss: 1.464\n",
      "Epoch 2, Batch 300, Loss: 1.415\n",
      "Epoch 2, Batch 400, Loss: 1.422\n",
      "Epoch 2, Batch 500, Loss: 1.367\n",
      "Epoch 2, Batch 600, Loss: 1.350\n",
      "Epoch 2, Batch 700, Loss: 1.324\n",
      "Epoch 3, Batch 100, Loss: 1.262\n",
      "Epoch 3, Batch 200, Loss: 1.243\n",
      "Epoch 3, Batch 300, Loss: 1.213\n",
      "Epoch 3, Batch 400, Loss: 1.210\n",
      "Epoch 3, Batch 500, Loss: 1.208\n",
      "Epoch 3, Batch 600, Loss: 1.169\n",
      "Epoch 3, Batch 700, Loss: 1.162\n",
      "Epoch 4, Batch 100, Loss: 1.136\n",
      "Epoch 4, Batch 200, Loss: 1.106\n",
      "Epoch 4, Batch 300, Loss: 1.073\n",
      "Epoch 4, Batch 400, Loss: 1.070\n",
      "Epoch 4, Batch 500, Loss: 1.067\n",
      "Epoch 4, Batch 600, Loss: 1.083\n",
      "Epoch 4, Batch 700, Loss: 1.089\n",
      "Epoch 5, Batch 100, Loss: 1.013\n",
      "Epoch 5, Batch 200, Loss: 0.976\n",
      "Epoch 5, Batch 300, Loss: 0.982\n",
      "Epoch 5, Batch 400, Loss: 0.992\n",
      "Epoch 5, Batch 500, Loss: 0.973\n",
      "Epoch 5, Batch 600, Loss: 1.002\n",
      "Epoch 5, Batch 700, Loss: 0.989\n",
      "Epoch 6, Batch 100, Loss: 0.943\n",
      "Epoch 6, Batch 200, Loss: 0.918\n",
      "Epoch 6, Batch 300, Loss: 0.940\n",
      "Epoch 6, Batch 400, Loss: 0.923\n",
      "Epoch 6, Batch 500, Loss: 0.907\n",
      "Epoch 6, Batch 600, Loss: 0.918\n",
      "Epoch 6, Batch 700, Loss: 0.911\n",
      "Epoch 7, Batch 100, Loss: 0.888\n",
      "Epoch 7, Batch 200, Loss: 0.865\n",
      "Epoch 7, Batch 300, Loss: 0.838\n",
      "Epoch 7, Batch 400, Loss: 0.839\n",
      "Epoch 7, Batch 500, Loss: 0.858\n",
      "Epoch 7, Batch 600, Loss: 0.845\n",
      "Epoch 7, Batch 700, Loss: 0.850\n",
      "Epoch 8, Batch 100, Loss: 0.769\n",
      "Epoch 8, Batch 200, Loss: 0.803\n",
      "Epoch 8, Batch 300, Loss: 0.822\n",
      "Epoch 8, Batch 400, Loss: 0.791\n",
      "Epoch 8, Batch 500, Loss: 0.797\n",
      "Epoch 8, Batch 600, Loss: 0.790\n",
      "Epoch 8, Batch 700, Loss: 0.798\n",
      "Epoch 9, Batch 100, Loss: 0.752\n",
      "Epoch 9, Batch 200, Loss: 0.738\n",
      "Epoch 9, Batch 300, Loss: 0.743\n",
      "Epoch 9, Batch 400, Loss: 0.763\n",
      "Epoch 9, Batch 500, Loss: 0.757\n",
      "Epoch 9, Batch 600, Loss: 0.739\n",
      "Epoch 9, Batch 700, Loss: 0.769\n",
      "Epoch 10, Batch 100, Loss: 0.695\n",
      "Epoch 10, Batch 200, Loss: 0.729\n",
      "Epoch 10, Batch 300, Loss: 0.701\n",
      "Epoch 10, Batch 400, Loss: 0.701\n",
      "Epoch 10, Batch 500, Loss: 0.692\n",
      "Epoch 10, Batch 600, Loss: 0.737\n",
      "Epoch 10, Batch 700, Loss: 0.723\n",
      "Done. Total Training Time: 47.69s\n"
     ]
    }
   ],
   "source": [
    "# training loop\n",
    "num_epochs = 10\n",
    "training_losses = [] \n",
    "start_time = time.time()\n",
    "\n",
    "for epoch in range(num_epochs):\n",
    "    model.train()\n",
    "    running_loss = 0.0  # Track the loss for each epoch\n",
    "\n",
    "    for i, data in enumerate(train_loader, 0):\n",
    "        # 1. get a batch of data\n",
    "        inputs, labels = data\n",
    "        inputs, labels = inputs.to(device), labels.to(device)\n",
    "\n",
    "        # 2. reset gradients (aside from first iteration, these have some value)\n",
    "        optimizer.zero_grad()\n",
    "\n",
    "        # 3. run the data through the model. forward pass\n",
    "        y_pred = model(inputs)\n",
    "\n",
    "        # 4. Compute the loss\n",
    "        loss = cost(y_pred, labels)\n",
    "\n",
    "        # 5. Backpropagation\n",
    "        loss.backward()\n",
    "\n",
    "        # 6. update weights\n",
    "        optimizer.step()\n",
    "\n",
    "        training_losses.append(loss.item())\n",
    "        # Print statistics\n",
    "        running_loss += loss.item()\n",
    "        if i % 100 == 99:  # Print every 100 mini-batches\n",
    "            print(f'Epoch {epoch + 1}, Batch {i + 1}, Loss: {running_loss / 100:.3f}')\n",
    "            running_loss = 0.0\n",
    "\n",
    "\n",
    "end_time = time.time() \n",
    "total_training_time = end_time - start_time  # Calculate total training time\n",
    "\n",
    "print(f'Done. Total Training Time: {total_training_time:.2f}s')"
   ]
  },
  {
   "cell_type": "code",
   "execution_count": 19,
   "metadata": {},
   "outputs": [
    {
     "data": {
      "image/png": "[encoded data removed]",
      "text/plain": [
       "<Figure size 640x480 with 1 Axes>"
      ]
     },
     "metadata": {},
     "output_type": "display_data"
    }
   ],
   "source": [
    "# loss plot\n",
    "df_loss = pd.DataFrame({'iteration': range(1, len(training_losses) + 1), 'loss': training_losses})\n",
    "sns.lineplot(df_loss, x='iteration', y='loss')\n",
    "plt.xlabel('Iterations')\n",
    "plt.ylabel('Loss')\n",
    "plt.title('Training Loss')\n",
    "plt.show()"
   ]
  },
  {
   "cell_type": "code",
   "execution_count": 17,
   "metadata": {},
   "outputs": [
    {
     "name": "stdout",
     "output_type": "stream",
     "text": [
      "Train Accuracy: 76.99%\n",
      "Test Accuracy: 69.73%\n"
     ]
    }
   ],
   "source": [
    "# evaluate model\n",
    "def evaluate(data_loader):\n",
    "    correct = 0\n",
    "    total = 0\n",
    "    with torch.inference_mode():  # Ensures inference mode is active\n",
    "        for images, labels in data_loader:\n",
    "            images, labels = images.to(device), labels.to(device)\n",
    "            outputs = model(images)  # Get model predictions\n",
    "            _, predicted = torch.max(outputs, 1)  # Get predicted class\n",
    "            total += labels.size(0)\n",
    "            correct += (predicted == labels).sum().item()\n",
    "\n",
    "    accuracy = 100 * correct / total\n",
    "    return accuracy\n",
    "\n",
    "print(f\"Train Accuracy: {evaluate(train_loader):.2f}%\")    \n",
    "print(f\"Test Accuracy: {evaluate(test_loader):.2f}%\")    "
   ]
  },
  {
   "cell_type": "markdown",
   "metadata": {},
   "source": [
    "## 2. Lightweight/Small Architecture"
   ]
  },
  {
   "cell_type": "code",
   "execution_count": null,
   "metadata": {},
   "outputs": [],
   "source": [
    "class SmallCifar10NN(nn.Module):\n",
    "    def __init__(self):\n",
    "        super(SmallCifar10NN, self).__init__()\n",
    "\n",
    "        # 2 convolutional layers\n",
    "        self.conv1 = nn.Conv2d(3, 16, kernel_size=3, padding=1)\n",
    "        self.conv2 = nn.Conv2d(16, 32, kernel_size=3, padding=1)\n",
    "\n",
    "        # global average pooling (GAP) intead of fc layers\n",
    "        self.global_pool = nn.AdaptiveAvgPool2d(1)"
   ]
  }
 ],
 "metadata": {
  "kernelspec": {
   "display_name": "Python 3 (ipykernel)",
   "language": "python",
   "name": "python3"
  },
  "language_info": {
   "codemirror_mode": {
    "name": "ipython",
    "version": 3
   },
   "file_extension": ".py",
   "mimetype": "text/x-python",
   "name": "python",
   "nbconvert_exporter": "python",
   "pygments_lexer": "ipython3",
   "version": "3.11.11"
  }
 },
 "nbformat": 4,
 "nbformat_minor": 4
}
